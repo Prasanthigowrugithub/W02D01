{
 "cells": [
  {
   "cell_type": "markdown",
   "id": "356d3492",
   "metadata": {},
   "source": [
    "### Conditional statements"
   ]
  },
  {
   "cell_type": "code",
   "execution_count": 11,
   "id": "00397feb",
   "metadata": {
    "scrolled": true
   },
   "outputs": [
    {
     "name": "stdout",
     "output_type": "stream",
     "text": [
      "Num2 is greater than num1\n"
     ]
    }
   ],
   "source": [
    "# if [condition]:\n",
    "#     statements\n",
    "#elif [condition]:\n",
    "#    statements\n",
    "#else:\n",
    "#    statements\n",
    "num1 = 100\n",
    "num2 = 200\n",
    "if num1 > num2:\n",
    "    print(\"Num1 is greater than num2\")\n",
    "elif num2 > num1:\n",
    "    print(\"Num2 is greater than num1\")\n",
    "else:\n",
    "    print(\"Num1 and Num2 are equal\")"
   ]
  },
  {
   "cell_type": "code",
   "execution_count": 12,
   "id": "2b49c224",
   "metadata": {
    "scrolled": true
   },
   "outputs": [
    {
     "name": "stdout",
     "output_type": "stream",
     "text": [
      "Num1 and Num2 are equal\n"
     ]
    }
   ],
   "source": [
    "# if [condition]:\n",
    "#     statements\n",
    "#elif [condition]:\n",
    "#    statements\n",
    "#else:\n",
    "#    statements\n",
    "num1 = 100\n",
    "num2 = 100\n",
    "if num1 > num2:\n",
    "    print(\"Num1 is greater than num2\")\n",
    "elif num2 > num1:\n",
    "    print(\"Num2 is greater than num1\")\n",
    "else:\n",
    "    print(\"Num1 and Num2 are equal\")"
   ]
  },
  {
   "cell_type": "code",
   "execution_count": 13,
   "id": "fe7ba155",
   "metadata": {},
   "outputs": [
    {
     "name": "stdout",
     "output_type": "stream",
     "text": [
      "Num1 is greater than num2\n"
     ]
    }
   ],
   "source": [
    "# if [condition]:\n",
    "#     statements\n",
    "#elif [condition]:\n",
    "#    statements\n",
    "#else:\n",
    "#    statements\n",
    "num1 = 100\n",
    "num2 = 50\n",
    "if num1 > num2:\n",
    "    print(\"Num1 is greater than num2\")\n",
    "elif num2 > num1:\n",
    "    print(\"Num2 is greater than num1\")\n",
    "else:\n",
    "    print(\"Num1 and Num2 are equal\")"
   ]
  },
  {
   "cell_type": "markdown",
   "id": "5828ee38",
   "metadata": {},
   "source": [
    "#### Any non zero values will be consider as a true in python."
   ]
  },
  {
   "cell_type": "code",
   "execution_count": 14,
   "id": "e9ae69db",
   "metadata": {},
   "outputs": [
    {
     "name": "stdout",
     "output_type": "stream",
     "text": [
      "statement in if block\n"
     ]
    }
   ],
   "source": [
    "if 1 :\n",
    "    print(\"statement in if block\")\n",
    "else:\n",
    "    print(\"statement in else block\")"
   ]
  },
  {
   "cell_type": "code",
   "execution_count": 15,
   "id": "5c3851f2",
   "metadata": {},
   "outputs": [
    {
     "name": "stdout",
     "output_type": "stream",
     "text": [
      "statement in if block\n"
     ]
    }
   ],
   "source": [
    "if 10 :\n",
    "    print(\"statement in if block\")\n",
    "else:\n",
    "    print(\"statement in else block\")"
   ]
  },
  {
   "cell_type": "code",
   "execution_count": 16,
   "id": "56dfa484",
   "metadata": {},
   "outputs": [
    {
     "name": "stdout",
     "output_type": "stream",
     "text": [
      "statement in else block\n"
     ]
    }
   ],
   "source": [
    "if 0 :\n",
    "    print(\"statement in if block\")\n",
    "else:\n",
    "    print(\"statement in else block\")"
   ]
  },
  {
   "cell_type": "code",
   "execution_count": 18,
   "id": "e35b3d99",
   "metadata": {
    "scrolled": true
   },
   "outputs": [
    {
     "name": "stdout",
     "output_type": "stream",
     "text": [
      "statement in else block\n"
     ]
    }
   ],
   "source": [
    "if None :\n",
    "    print(\"statement in if block\")\n",
    "else:\n",
    "    print(\"statement in else block\")"
   ]
  },
  {
   "cell_type": "code",
   "execution_count": null,
   "id": "67532b54",
   "metadata": {},
   "outputs": [],
   "source": []
  }
 ],
 "metadata": {
  "kernelspec": {
   "display_name": "Python 3 (ipykernel)",
   "language": "python",
   "name": "python3"
  },
  "language_info": {
   "codemirror_mode": {
    "name": "ipython",
    "version": 3
   },
   "file_extension": ".py",
   "mimetype": "text/x-python",
   "name": "python",
   "nbconvert_exporter": "python",
   "pygments_lexer": "ipython3",
   "version": "3.10.6"
  }
 },
 "nbformat": 4,
 "nbformat_minor": 5
}
